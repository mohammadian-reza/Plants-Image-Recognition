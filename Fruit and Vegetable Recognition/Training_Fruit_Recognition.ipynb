{
 "cells": [
  {
   "cell_type": "markdown",
   "metadata": {},
   "source": [
    "# Importing Libraries"
   ]
  },
  {
   "cell_type": "code",
   "execution_count": 1,
   "metadata": {},
   "outputs": [],
   "source": [
    "import numpy as np\n",
    "import tensorflow as tf\n",
    "from keras.preprocessing.image import ImageDataGenerator\n",
    "import matplotlib.pyplot as plt"
   ]
  },
  {
   "cell_type": "markdown",
   "metadata": {},
   "source": [
    "Dataset Link: https://www.kaggle.com/datasets/moltean/fruits"
   ]
  },
  {
   "cell_type": "markdown",
   "metadata": {},
   "source": [
    "# Data Preprocessing"
   ]
  },
  {
   "cell_type": "markdown",
   "metadata": {},
   "source": [
    "## Training Image preprocessing"
   ]
  },
  {
   "cell_type": "code",
   "execution_count": 4,
   "metadata": {},
   "outputs": [
    {
     "name": "stdout",
     "output_type": "stream",
     "text": [
      "Found 67692 images belonging to 131 classes.\n"
     ]
    }
   ],
   "source": [
    "train_datagen = ImageDataGenerator(\n",
    "        rescale=1./255,\n",
    "        shear_range=0.2,\n",
    "        zoom_range=0.2,\n",
    "        horizontal_flip=True)\n",
    "training_set = train_datagen.flow_from_directory(\n",
    "                'Training',target_size=(64,64),batch_size=32,class_mode='categorical')"
   ]
  },
  {
   "cell_type": "markdown",
   "metadata": {},
   "source": [
    "## Test Image preprocessing"
   ]
  },
  {
   "cell_type": "code",
   "execution_count": 6,
   "metadata": {},
   "outputs": [
    {
     "name": "stdout",
     "output_type": "stream",
     "text": [
      "Found 22688 images belonging to 131 classes.\n"
     ]
    }
   ],
   "source": [
    "test_datagen = ImageDataGenerator(rescale=1./255)\n",
    "test_set = test_datagen.flow_from_directory('Test',target_size=(64,64),batch_size=32,class_mode='categorical',shuffle=False)"
   ]
  },
  {
   "cell_type": "markdown",
   "metadata": {},
   "source": [
    "# Building Model"
   ]
  },
  {
   "cell_type": "code",
   "execution_count": 9,
   "metadata": {},
   "outputs": [],
   "source": [
    "cnn = tf.keras.models.Sequential()"
   ]
  },
  {
   "cell_type": "markdown",
   "metadata": {},
   "source": [
    "## Building Convolution layer"
   ]
  },
  {
   "cell_type": "code",
   "execution_count": 11,
   "metadata": {},
   "outputs": [],
   "source": [
    "cnn.add(tf.keras.layers.Conv2D(filters=64,kernel_size=3,activation='relu',input_shape=[64,64,3]))\n",
    "cnn.add(tf.keras.layers.MaxPool2D(pool_size=2,strides=2))"
   ]
  },
  {
   "cell_type": "code",
   "execution_count": 12,
   "metadata": {},
   "outputs": [],
   "source": [
    "cnn.add(tf.keras.layers.Conv2D(filters=64,kernel_size=3,activation='relu'))\n",
    "cnn.add(tf.keras.layers.MaxPool2D(pool_size=2,strides=2))"
   ]
  },
  {
   "cell_type": "code",
   "execution_count": 13,
   "metadata": {},
   "outputs": [],
   "source": [
    "cnn.add(tf.keras.layers.Dropout(0.5))"
   ]
  },
  {
   "cell_type": "code",
   "execution_count": 14,
   "metadata": {},
   "outputs": [],
   "source": [
    "cnn.add(tf.keras.layers.Flatten())"
   ]
  },
  {
   "cell_type": "code",
   "execution_count": 15,
   "metadata": {},
   "outputs": [],
   "source": [
    "cnn.add(tf.keras.layers.Dense(units=256,activation='relu'))"
   ]
  },
  {
   "cell_type": "code",
   "execution_count": 16,
   "metadata": {},
   "outputs": [],
   "source": [
    "cnn.add(tf.keras.layers.Dense(units=131,activation='softmax'))"
   ]
  },
  {
   "cell_type": "markdown",
   "metadata": {},
   "source": [
    "## Compiling and Training Phase"
   ]
  },
  {
   "cell_type": "code",
   "execution_count": 17,
   "metadata": {},
   "outputs": [],
   "source": [
    "cnn.compile(optimizer='rmsprop',loss='categorical_crossentropy', metrics=['accuracy'])"
   ]
  },
  {
   "cell_type": "code",
   "execution_count": 18,
   "metadata": {},
   "outputs": [
    {
     "name": "stdout",
     "output_type": "stream",
     "text": [
      "Epoch 1/30\n",
      "2116/2116 [==============================] - 655s 309ms/step - loss: 0.6982 - accuracy: 0.8026 - val_loss: 0.2865 - val_accuracy: 0.9244\n",
      "Epoch 2/30\n",
      "2116/2116 [==============================] - 718s 339ms/step - loss: 0.1217 - accuracy: 0.9635 - val_loss: 0.2100 - val_accuracy: 0.9580\n",
      "Epoch 3/30\n",
      "2116/2116 [==============================] - 746s 352ms/step - loss: 0.0849 - accuracy: 0.9768 - val_loss: 0.3851 - val_accuracy: 0.9318\n",
      "Epoch 4/30\n",
      "2116/2116 [==============================] - 778s 368ms/step - loss: 0.0724 - accuracy: 0.9814 - val_loss: 0.2194 - val_accuracy: 0.9621\n",
      "Epoch 5/30\n",
      "2116/2116 [==============================] - 803s 380ms/step - loss: 0.0640 - accuracy: 0.9846 - val_loss: 0.1640 - val_accuracy: 0.9821\n",
      "Epoch 6/30\n",
      "2116/2116 [==============================] - 805s 380ms/step - loss: 0.0615 - accuracy: 0.9871 - val_loss: 0.4036 - val_accuracy: 0.9518\n",
      "Epoch 7/30\n",
      "2116/2116 [==============================] - 802s 379ms/step - loss: 0.0577 - accuracy: 0.9885 - val_loss: 0.2240 - val_accuracy: 0.9774\n",
      "Epoch 8/30\n",
      "2116/2116 [==============================] - 754s 357ms/step - loss: 0.0624 - accuracy: 0.9883 - val_loss: 0.4477 - val_accuracy: 0.9603\n",
      "Epoch 9/30\n",
      "2116/2116 [==============================] - 628s 297ms/step - loss: 0.0657 - accuracy: 0.9891 - val_loss: 0.2689 - val_accuracy: 0.9846\n",
      "Epoch 10/30\n",
      "2116/2116 [==============================] - 619s 293ms/step - loss: 0.0747 - accuracy: 0.9887 - val_loss: 0.4249 - val_accuracy: 0.9725\n",
      "Epoch 11/30\n",
      "2116/2116 [==============================] - 622s 294ms/step - loss: 0.0640 - accuracy: 0.9902 - val_loss: 0.3480 - val_accuracy: 0.9674\n",
      "Epoch 12/30\n",
      "2116/2116 [==============================] - 618s 292ms/step - loss: 0.0694 - accuracy: 0.9908 - val_loss: 0.4418 - val_accuracy: 0.9771\n",
      "Epoch 13/30\n",
      "2116/2116 [==============================] - 620s 293ms/step - loss: 0.0790 - accuracy: 0.9906 - val_loss: 0.7307 - val_accuracy: 0.9511\n",
      "Epoch 14/30\n",
      "2116/2116 [==============================] - 625s 295ms/step - loss: 0.0795 - accuracy: 0.9909 - val_loss: 0.4094 - val_accuracy: 0.9770\n",
      "Epoch 15/30\n",
      "2116/2116 [==============================] - 620s 293ms/step - loss: 0.0734 - accuracy: 0.9915 - val_loss: 0.3892 - val_accuracy: 0.9799\n",
      "Epoch 16/30\n",
      "2116/2116 [==============================] - 613s 290ms/step - loss: 0.0861 - accuracy: 0.9911 - val_loss: 0.6358 - val_accuracy: 0.9597\n",
      "Epoch 17/30\n",
      "2116/2116 [==============================] - 657s 310ms/step - loss: 0.0857 - accuracy: 0.9915 - val_loss: 0.5419 - val_accuracy: 0.9750\n",
      "Epoch 18/30\n",
      "2116/2116 [==============================] - 812s 384ms/step - loss: 0.0858 - accuracy: 0.9914 - val_loss: 0.8525 - val_accuracy: 0.9673\n",
      "Epoch 19/30\n",
      "2116/2116 [==============================] - 839s 397ms/step - loss: 0.0856 - accuracy: 0.9922 - val_loss: 0.6557 - val_accuracy: 0.9768\n",
      "Epoch 20/30\n",
      "2116/2116 [==============================] - 807s 381ms/step - loss: 0.0924 - accuracy: 0.9922 - val_loss: 0.6406 - val_accuracy: 0.9789\n",
      "Epoch 21/30\n",
      "2116/2116 [==============================] - 824s 390ms/step - loss: 0.1013 - accuracy: 0.9923 - val_loss: 0.6678 - val_accuracy: 0.9791\n",
      "Epoch 22/30\n",
      "2116/2116 [==============================] - 834s 394ms/step - loss: 0.0950 - accuracy: 0.9925 - val_loss: 0.5852 - val_accuracy: 0.9827\n",
      "Epoch 23/30\n",
      "2116/2116 [==============================] - 712s 336ms/step - loss: 0.0873 - accuracy: 0.9933 - val_loss: 0.6420 - val_accuracy: 0.9823\n",
      "Epoch 24/30\n",
      "2116/2116 [==============================] - 779s 368ms/step - loss: 0.1033 - accuracy: 0.9927 - val_loss: 0.8278 - val_accuracy: 0.9690\n",
      "Epoch 25/30\n",
      "2116/2116 [==============================] - 747s 353ms/step - loss: 0.0965 - accuracy: 0.9933 - val_loss: 0.5873 - val_accuracy: 0.9833\n",
      "Epoch 26/30\n",
      "2116/2116 [==============================] - 776s 367ms/step - loss: 0.0929 - accuracy: 0.9935 - val_loss: 0.6075 - val_accuracy: 0.9797\n",
      "Epoch 27/30\n",
      "2116/2116 [==============================] - 781s 369ms/step - loss: 0.0906 - accuracy: 0.9938 - val_loss: 1.1492 - val_accuracy: 0.9682\n",
      "Epoch 28/30\n",
      "2116/2116 [==============================] - 775s 366ms/step - loss: 0.0994 - accuracy: 0.9934 - val_loss: 1.2769 - val_accuracy: 0.9680\n",
      "Epoch 29/30\n",
      "2116/2116 [==============================] - 810s 383ms/step - loss: 0.1056 - accuracy: 0.9934 - val_loss: 0.7985 - val_accuracy: 0.9784\n",
      "Epoch 30/30\n",
      "2116/2116 [==============================] - 774s 366ms/step - loss: 0.1169 - accuracy: 0.9937 - val_loss: 0.8188 - val_accuracy: 0.9752\n"
     ]
    }
   ],
   "source": [
    "training_history = cnn.fit(x=training_set,validation_data=test_set,epochs=30)"
   ]
  },
  {
   "cell_type": "markdown",
   "metadata": {},
   "source": [
    "## Saving Model"
   ]
  },
  {
   "cell_type": "code",
   "execution_count": 20,
   "metadata": {},
   "outputs": [],
   "source": [
    "cnn.save(\"trained_model.h5\")"
   ]
  },
  {
   "cell_type": "code",
   "execution_count": 22,
   "metadata": {},
   "outputs": [
    {
     "name": "stdout",
     "output_type": "stream",
     "text": [
      "dict_keys(['loss', 'accuracy', 'val_loss', 'val_accuracy'])\n"
     ]
    }
   ],
   "source": [
    "print(training_history.history.keys())"
   ]
  },
  {
   "cell_type": "markdown",
   "metadata": {},
   "source": [
    "## Calculating Accuracy of Model Achieved on Test set"
   ]
  },
  {
   "cell_type": "code",
   "execution_count": 111,
   "metadata": {},
   "outputs": [
    {
     "name": "stdout",
     "output_type": "stream",
     "text": [
      "Test set Accuracy: 97.51850962638855 %\n"
     ]
    }
   ],
   "source": [
    "print('Test set Accuracy: {} %'.format(training_history.history['val_accuracy'][-1]*100))"
   ]
  },
  {
   "cell_type": "markdown",
   "metadata": {},
   "source": [
    "# Accuracy Visualization"
   ]
  },
  {
   "cell_type": "markdown",
   "metadata": {},
   "source": [
    "## Training Visualization"
   ]
  },
  {
   "cell_type": "code",
   "execution_count": 113,
   "metadata": {},
   "outputs": [
    {
     "data": {
      "image/png": "[encoded data removed]",
      "text/plain": [
       "<Figure size 432x288 with 1 Axes>"
      ]
     },
     "metadata": {
      "needs_background": "light"
     },
     "output_type": "display_data"
    }
   ],
   "source": [
    "epochs=[i for i in range(1,31)]\n",
    "plt.plot(epochs,training_history.history['accuracy'],color='red')\n",
    "plt.xlabel('Epochs')\n",
    "plt.ylabel('Training Accuracy')\n",
    "plt.title(\"Visualization of Training Accuracy Result\")\n",
    "plt.show()"
   ]
  },
  {
   "cell_type": "markdown",
   "metadata": {},
   "source": [
    "## Validation Visualization"
   ]
  },
  {
   "cell_type": "code",
   "execution_count": 114,
   "metadata": {},
   "outputs": [
    {
     "data": {
      "image/png": "[encoded data removed]",
      "text/plain": [
       "<Figure size 432x288 with 1 Axes>"
      ]
     },
     "metadata": {
      "needs_background": "light"
     },
     "output_type": "display_data"
    }
   ],
   "source": [
    "plt.plot(epochs,training_history.history['val_accuracy'],color='cyan')\n",
    "plt.xlabel('Epochs')\n",
    "plt.ylabel('Validation Accuracy')\n",
    "plt.title(\"Visualization of Validation Accuracy Result\")\n",
    "plt.show()"
   ]
  },
  {
   "cell_type": "code",
   "execution_count": 135,
   "metadata": {},
   "outputs": [],
   "source": []
  }
 ],
 "metadata": {
  "kernelspec": {
   "display_name": "Python 3",
   "language": "python",
   "name": "python3"
  },
  "language_info": {
   "codemirror_mode": {
    "name": "ipython",
    "version": 3
   },
   "file_extension": ".py",
   "mimetype": "text/x-python",
   "name": "python",
   "nbconvert_exporter": "python",
   "pygments_lexer": "ipython3",
   "version": "3.8.5"
  }
 },
 "nbformat": 4,
 "nbformat_minor": 4
}
