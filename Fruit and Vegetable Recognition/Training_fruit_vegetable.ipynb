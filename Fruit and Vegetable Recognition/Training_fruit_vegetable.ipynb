{
  "nbformat": 4,
  "nbformat_minor": 0,
  "metadata": {
    "colab": {
      "provenance": []
    },
    "kernelspec": {
      "name": "python3",
      "display_name": "Python 3"
    },
    "language_info": {
      "name": "python"
    }
  },
  "cells": [
    {
      "cell_type": "markdown",
      "source": [
        "#Importing Dataset"
      ],
      "metadata": {
        "id": "BeB10ZMav-SW"
      }
    },
    {
      "cell_type": "code",
      "source": [
        "from google.colab import drive\n",
        "drive.mount('/content/drive')"
      ],
      "metadata": {
        "colab": {
          "base_uri": "https://localhost:8080/"
        },
        "id": "CkSZ9-gPukrQ",
        "outputId": "fcec2e59-d6e7-4351-cff4-bee2b7450c05"
      },
      "execution_count": 1,
      "outputs": [
        {
          "output_type": "stream",
          "name": "stdout",
          "text": [
            "Drive already mounted at /content/drive; to attempt to forcibly remount, call drive.mount(\"/content/drive\", force_remount=True).\n"
          ]
        }
      ]
    },
    {
      "cell_type": "markdown",
      "source": [
        "#Importing libraries"
      ],
      "metadata": {
        "id": "5vUbBvinu8zW"
      }
    },
    {
      "cell_type": "code",
      "source": [
        "import tensorflow as tf\n",
        "import matplotlib.pyplot as plt"
      ],
      "metadata": {
        "id": "4JsejDm3uxTS"
      },
      "execution_count": 2,
      "outputs": []
    },
    {
      "cell_type": "markdown",
      "source": [
        "#Data Preprocessing"
      ],
      "metadata": {
        "id": "i2w52yYrvTu9"
      }
    },
    {
      "cell_type": "markdown",
      "source": [
        "##Training Image preprocessing"
      ],
      "metadata": {
        "id": "vU3NlcKCwlIZ"
      }
    },
    {
      "cell_type": "code",
      "source": [
        "training_set = tf.keras.utils.image_dataset_from_directory(\n",
        "    '/content/drive/MyDrive/Fruit_Vegetable_Recognition/train',\n",
        "    labels=\"inferred\",\n",
        "    label_mode=\"categorical\",\n",
        "    class_names=None,\n",
        "    color_mode=\"rgb\",\n",
        "    batch_size=32,\n",
        "    image_size=(64, 64),\n",
        "    shuffle=True,\n",
        "    seed=None,\n",
        "    validation_split=None,\n",
        "    subset=None,\n",
        "    interpolation=\"bilinear\",\n",
        "    follow_links=False,\n",
        "    crop_to_aspect_ratio=False\n",
        ")"
      ],
      "metadata": {
        "colab": {
          "base_uri": "https://localhost:8080/"
        },
        "id": "Kjoa0oUHvQAv",
        "outputId": "35053f0d-5fd0-4b98-cd8f-fa0a88a79e8f"
      },
      "execution_count": 19,
      "outputs": [
        {
          "output_type": "stream",
          "name": "stdout",
          "text": [
            "Found 3145 files belonging to 36 classes.\n"
          ]
        }
      ]
    },
    {
      "cell_type": "markdown",
      "source": [
        "##Validation Image Preprocessing"
      ],
      "metadata": {
        "id": "nK9Ev76o0mdJ"
      }
    },
    {
      "cell_type": "code",
      "source": [
        "validation_set = tf.keras.utils.image_dataset_from_directory(\n",
        "    '/content/drive/MyDrive/Fruit_Vegetable_Recognition/validation',\n",
        "    labels=\"inferred\",\n",
        "    label_mode=\"categorical\",\n",
        "    class_names=None,\n",
        "    color_mode=\"rgb\",\n",
        "    batch_size=32,\n",
        "    image_size=(64, 64),\n",
        "    shuffle=True,\n",
        "    seed=None,\n",
        "    validation_split=None,\n",
        "    subset=None,\n",
        "    interpolation=\"bilinear\",\n",
        "    follow_links=False,\n",
        "    crop_to_aspect_ratio=False\n",
        ")"
      ],
      "metadata": {
        "colab": {
          "base_uri": "https://localhost:8080/"
        },
        "id": "Tocls4IowkNB",
        "outputId": "3b0d8b3d-8552-4e0f-c1f2-7c9f7e28a944"
      },
      "execution_count": 48,
      "outputs": [
        {
          "output_type": "stream",
          "name": "stdout",
          "text": [
            "Found 351 files belonging to 36 classes.\n"
          ]
        }
      ]
    },
    {
      "cell_type": "markdown",
      "source": [
        "#Building Model"
      ],
      "metadata": {
        "id": "OQ_TcbD7r2Cw"
      }
    },
    {
      "cell_type": "code",
      "source": [
        "cnn = tf.keras.models.Sequential()"
      ],
      "metadata": {
        "id": "cUMiJrPvsBTU"
      },
      "execution_count": 21,
      "outputs": []
    },
    {
      "cell_type": "markdown",
      "source": [
        "##Building Convolution Layer"
      ],
      "metadata": {
        "id": "mgFWYq7ssLkV"
      }
    },
    {
      "cell_type": "code",
      "source": [
        "cnn.add(tf.keras.layers.Conv2D(filters=32,kernel_size=3,padding='same',activation='relu',input_shape=[64,64,3]))\n",
        "cnn.add(tf.keras.layers.Conv2D(filters=32,kernel_size=3,activation='relu'))\n",
        "cnn.add(tf.keras.layers.MaxPool2D(pool_size=2,strides=2))"
      ],
      "metadata": {
        "id": "LoaODWuZrHFg"
      },
      "execution_count": 22,
      "outputs": []
    },
    {
      "cell_type": "code",
      "source": [
        "cnn.add(tf.keras.layers.Dropout(0.25))"
      ],
      "metadata": {
        "id": "b5-b7yo8mJHq"
      },
      "execution_count": 23,
      "outputs": []
    },
    {
      "cell_type": "code",
      "source": [
        "cnn.add(tf.keras.layers.Conv2D(filters=64,kernel_size=3,padding='same',activation='relu'))\n",
        "cnn.add(tf.keras.layers.Conv2D(filters=64,kernel_size=3,activation='relu'))\n",
        "cnn.add(tf.keras.layers.MaxPool2D(pool_size=2,strides=2))"
      ],
      "metadata": {
        "id": "5-potKmKsOr2"
      },
      "execution_count": 24,
      "outputs": []
    },
    {
      "cell_type": "code",
      "source": [
        "cnn.add(tf.keras.layers.Dropout(0.25))"
      ],
      "metadata": {
        "id": "0B29AmGWmZeV"
      },
      "execution_count": 25,
      "outputs": []
    },
    {
      "cell_type": "code",
      "source": [
        "cnn.add(tf.keras.layers.Flatten())"
      ],
      "metadata": {
        "id": "NPZ2NGthuTv5"
      },
      "execution_count": 26,
      "outputs": []
    },
    {
      "cell_type": "code",
      "source": [
        "cnn.add(tf.keras.layers.Dense(units=512,activation='relu'))"
      ],
      "metadata": {
        "id": "demjWjcWuc3q"
      },
      "execution_count": 27,
      "outputs": []
    },
    {
      "cell_type": "code",
      "source": [
        "cnn.add(tf.keras.layers.Dense(units=256,activation='relu'))"
      ],
      "metadata": {
        "id": "_cD4jLBauZtk"
      },
      "execution_count": 28,
      "outputs": []
    },
    {
      "cell_type": "code",
      "source": [
        "cnn.add(tf.keras.layers.Dropout(0.5)) #To avoid overfitting"
      ],
      "metadata": {
        "id": "2onuZO6YuBF3"
      },
      "execution_count": 29,
      "outputs": []
    },
    {
      "cell_type": "code",
      "source": [
        "#Output Layer\n",
        "cnn.add(tf.keras.layers.Dense(units=36,activation='softmax'))"
      ],
      "metadata": {
        "id": "toAqflkCuwoS"
      },
      "execution_count": 30,
      "outputs": []
    },
    {
      "cell_type": "markdown",
      "source": [
        "#Compiling and Training Phase"
      ],
      "metadata": {
        "id": "sYYdAFZDvt1P"
      }
    },
    {
      "cell_type": "code",
      "source": [
        "cnn.compile(optimizer='adam',loss='categorical_crossentropy',metrics=['accuracy'])"
      ],
      "metadata": {
        "id": "yAcyiEfVvVzw"
      },
      "execution_count": 31,
      "outputs": []
    },
    {
      "cell_type": "code",
      "source": [
        "cnn.summary()"
      ],
      "metadata": {
        "colab": {
          "base_uri": "https://localhost:8080/"
        },
        "id": "X0MROJsdlC5Z",
        "outputId": "59099315-950c-4546-d62d-626f4ca3b80d"
      },
      "execution_count": 32,
      "outputs": [
        {
          "output_type": "stream",
          "name": "stdout",
          "text": [
            "Model: \"sequential_1\"\n",
            "_________________________________________________________________\n",
            " Layer (type)                Output Shape              Param #   \n",
            "=================================================================\n",
            " conv2d_4 (Conv2D)           (None, 64, 64, 32)        896       \n",
            "                                                                 \n",
            " conv2d_5 (Conv2D)           (None, 62, 62, 32)        9248      \n",
            "                                                                 \n",
            " max_pooling2d_2 (MaxPooling  (None, 31, 31, 32)       0         \n",
            " 2D)                                                             \n",
            "                                                                 \n",
            " dropout_3 (Dropout)         (None, 31, 31, 32)        0         \n",
            "                                                                 \n",
            " conv2d_6 (Conv2D)           (None, 31, 31, 64)        18496     \n",
            "                                                                 \n",
            " conv2d_7 (Conv2D)           (None, 29, 29, 64)        36928     \n",
            "                                                                 \n",
            " max_pooling2d_3 (MaxPooling  (None, 14, 14, 64)       0         \n",
            " 2D)                                                             \n",
            "                                                                 \n",
            " dropout_4 (Dropout)         (None, 14, 14, 64)        0         \n",
            "                                                                 \n",
            " flatten_1 (Flatten)         (None, 12544)             0         \n",
            "                                                                 \n",
            " dense_2 (Dense)             (None, 512)               6423040   \n",
            "                                                                 \n",
            " dense_3 (Dense)             (None, 256)               131328    \n",
            "                                                                 \n",
            " dropout_5 (Dropout)         (None, 256)               0         \n",
            "                                                                 \n",
            " dense_4 (Dense)             (None, 36)                9252      \n",
            "                                                                 \n",
            "=================================================================\n",
            "Total params: 6,629,188\n",
            "Trainable params: 6,629,188\n",
            "Non-trainable params: 0\n",
            "_________________________________________________________________\n"
          ]
        }
      ]
    },
    {
      "cell_type": "code",
      "source": [
        "training_history = cnn.fit(x=training_set,validation_data=validation_set,epochs=32)"
      ],
      "metadata": {
        "colab": {
          "base_uri": "https://localhost:8080/"
        },
        "id": "K3W4dNUrvxIw",
        "outputId": "c4d220dc-40d6-438e-b940-751b3e85b037"
      },
      "execution_count": 33,
      "outputs": [
        {
          "output_type": "stream",
          "name": "stdout",
          "text": [
            "Epoch 1/32\n",
            "99/99 [==============================] - 97s 930ms/step - loss: 10.4164 - accuracy: 0.0312 - val_loss: 3.5666 - val_accuracy: 0.0712\n",
            "Epoch 2/32\n",
            "99/99 [==============================] - 92s 896ms/step - loss: 3.5682 - accuracy: 0.0461 - val_loss: 3.3981 - val_accuracy: 0.0684\n",
            "Epoch 3/32\n",
            "99/99 [==============================] - 95s 927ms/step - loss: 3.4487 - accuracy: 0.0655 - val_loss: 3.1129 - val_accuracy: 0.2051\n",
            "Epoch 4/32\n",
            "99/99 [==============================] - 93s 896ms/step - loss: 3.1663 - accuracy: 0.1262 - val_loss: 2.6860 - val_accuracy: 0.3077\n",
            "Epoch 5/32\n",
            "99/99 [==============================] - 94s 914ms/step - loss: 2.8633 - accuracy: 0.2067 - val_loss: 1.9641 - val_accuracy: 0.6040\n",
            "Epoch 6/32\n",
            "99/99 [==============================] - 92s 882ms/step - loss: 2.5652 - accuracy: 0.2846 - val_loss: 1.6034 - val_accuracy: 0.7179\n",
            "Epoch 7/32\n",
            "99/99 [==============================] - 91s 874ms/step - loss: 2.1816 - accuracy: 0.3663 - val_loss: 1.0297 - val_accuracy: 0.8262\n",
            "Epoch 8/32\n",
            "99/99 [==============================] - 95s 924ms/step - loss: 1.8585 - accuracy: 0.4598 - val_loss: 0.7244 - val_accuracy: 0.8946\n",
            "Epoch 9/32\n",
            "99/99 [==============================] - 92s 886ms/step - loss: 1.4308 - accuracy: 0.5768 - val_loss: 0.4628 - val_accuracy: 0.9316\n",
            "Epoch 10/32\n",
            "99/99 [==============================] - 97s 934ms/step - loss: 1.1430 - accuracy: 0.6582 - val_loss: 0.3852 - val_accuracy: 0.9430\n",
            "Epoch 11/32\n",
            "99/99 [==============================] - 94s 900ms/step - loss: 0.9822 - accuracy: 0.7234 - val_loss: 0.3214 - val_accuracy: 0.9373\n",
            "Epoch 12/32\n",
            "99/99 [==============================] - 94s 912ms/step - loss: 0.7507 - accuracy: 0.7774 - val_loss: 0.3077 - val_accuracy: 0.9402\n",
            "Epoch 13/32\n",
            "99/99 [==============================] - 97s 941ms/step - loss: 0.6676 - accuracy: 0.8019 - val_loss: 0.2952 - val_accuracy: 0.9430\n",
            "Epoch 14/32\n",
            "99/99 [==============================] - 95s 923ms/step - loss: 0.5358 - accuracy: 0.8442 - val_loss: 0.2793 - val_accuracy: 0.9487\n",
            "Epoch 15/32\n",
            "99/99 [==============================] - 91s 877ms/step - loss: 0.4591 - accuracy: 0.8617 - val_loss: 0.2154 - val_accuracy: 0.9573\n",
            "Epoch 16/32\n",
            "99/99 [==============================] - 91s 871ms/step - loss: 0.3969 - accuracy: 0.8792 - val_loss: 0.2290 - val_accuracy: 0.9601\n",
            "Epoch 17/32\n",
            "99/99 [==============================] - 94s 913ms/step - loss: 0.3868 - accuracy: 0.8843 - val_loss: 0.2969 - val_accuracy: 0.9601\n",
            "Epoch 18/32\n",
            "99/99 [==============================] - 98s 953ms/step - loss: 0.3010 - accuracy: 0.9116 - val_loss: 0.2828 - val_accuracy: 0.9573\n",
            "Epoch 19/32\n",
            "99/99 [==============================] - 92s 878ms/step - loss: 0.3111 - accuracy: 0.9122 - val_loss: 0.2803 - val_accuracy: 0.9544\n",
            "Epoch 20/32\n",
            "99/99 [==============================] - 92s 882ms/step - loss: 0.2600 - accuracy: 0.9275 - val_loss: 0.2672 - val_accuracy: 0.9630\n",
            "Epoch 21/32\n",
            "99/99 [==============================] - 95s 911ms/step - loss: 0.2127 - accuracy: 0.9364 - val_loss: 0.2957 - val_accuracy: 0.9601\n",
            "Epoch 22/32\n",
            "99/99 [==============================] - 94s 911ms/step - loss: 0.2000 - accuracy: 0.9409 - val_loss: 0.3326 - val_accuracy: 0.9573\n",
            "Epoch 23/32\n",
            "99/99 [==============================] - 98s 955ms/step - loss: 0.2481 - accuracy: 0.9275 - val_loss: 0.2515 - val_accuracy: 0.9630\n",
            "Epoch 24/32\n",
            "99/99 [==============================] - 92s 888ms/step - loss: 0.2309 - accuracy: 0.9402 - val_loss: 0.2734 - val_accuracy: 0.9601\n",
            "Epoch 25/32\n",
            "99/99 [==============================] - 93s 890ms/step - loss: 0.2314 - accuracy: 0.9332 - val_loss: 0.2753 - val_accuracy: 0.9544\n",
            "Epoch 26/32\n",
            "99/99 [==============================] - 92s 885ms/step - loss: 0.2151 - accuracy: 0.9377 - val_loss: 0.2669 - val_accuracy: 0.9601\n",
            "Epoch 27/32\n",
            "99/99 [==============================] - 91s 876ms/step - loss: 0.2206 - accuracy: 0.9377 - val_loss: 0.2493 - val_accuracy: 0.9601\n",
            "Epoch 28/32\n",
            "99/99 [==============================] - 97s 932ms/step - loss: 0.1895 - accuracy: 0.9405 - val_loss: 0.3109 - val_accuracy: 0.9630\n",
            "Epoch 29/32\n",
            "99/99 [==============================] - 94s 895ms/step - loss: 0.1845 - accuracy: 0.9533 - val_loss: 0.2511 - val_accuracy: 0.9630\n",
            "Epoch 30/32\n",
            "99/99 [==============================] - 95s 907ms/step - loss: 0.1629 - accuracy: 0.9552 - val_loss: 0.2257 - val_accuracy: 0.9601\n",
            "Epoch 31/32\n",
            "99/99 [==============================] - 92s 898ms/step - loss: 0.1707 - accuracy: 0.9482 - val_loss: 0.2292 - val_accuracy: 0.9601\n",
            "Epoch 32/32\n",
            "99/99 [==============================] - 92s 895ms/step - loss: 0.1203 - accuracy: 0.9628 - val_loss: 0.2176 - val_accuracy: 0.9630\n"
          ]
        }
      ]
    },
    {
      "cell_type": "markdown",
      "source": [
        "##Evaluating Model"
      ],
      "metadata": {
        "id": "19E3mwj1phoW"
      }
    },
    {
      "cell_type": "code",
      "source": [
        "#Training set Accuracy\n",
        "train_loss, train_acc = cnn.evaluate(training_set)\n",
        "print('Training accuracy:', train_acc)"
      ],
      "metadata": {
        "colab": {
          "base_uri": "https://localhost:8080/"
        },
        "id": "iY6o3uxjpgl5",
        "outputId": "372a2b25-5cdd-47c0-da77-1e9a5ee84f6c"
      },
      "execution_count": 34,
      "outputs": [
        {
          "output_type": "stream",
          "name": "stdout",
          "text": [
            "99/99 [==============================] - 57s 535ms/step - loss: 0.0203 - accuracy: 0.9936\n",
            "Training accuracy: 0.9936407208442688\n"
          ]
        }
      ]
    },
    {
      "cell_type": "code",
      "source": [
        "#Validation set Accuracy\n",
        "val_loss, val_acc = cnn.evaluate(validation_set)\n",
        "print('Validation accuracy:', val_acc)"
      ],
      "metadata": {
        "colab": {
          "base_uri": "https://localhost:8080/"
        },
        "id": "5SaQgd7bpgwl",
        "outputId": "0e82ce04-bdf8-4b31-bc00-cbb7198df7e7"
      },
      "execution_count": 35,
      "outputs": [
        {
          "output_type": "stream",
          "name": "stdout",
          "text": [
            "11/11 [==============================] - 8s 275ms/step - loss: 0.2176 - accuracy: 0.9630\n",
            "Validation accuracy: 0.9629629850387573\n"
          ]
        }
      ]
    },
    {
      "cell_type": "markdown",
      "source": [
        "##Saving Model"
      ],
      "metadata": {
        "id": "Qxp0xsjVBGec"
      }
    },
    {
      "cell_type": "code",
      "source": [
        "cnn.save('trained_model.h5')"
      ],
      "metadata": {
        "id": "EEUrBzCrxKt_"
      },
      "execution_count": 36,
      "outputs": []
    },
    {
      "cell_type": "code",
      "source": [
        "training_history.history #Return Dictionary of history"
      ],
      "metadata": {
        "colab": {
          "base_uri": "https://localhost:8080/"
        },
        "id": "BM-sILNMBwh1",
        "outputId": "3d1eb8a8-2742-4b1b-f8f3-10c1f0803975"
      },
      "execution_count": 37,
      "outputs": [
        {
          "output_type": "execute_result",
          "data": {
            "text/plain": [
              "{'loss': [10.416428565979004,\n",
              "  3.568152904510498,\n",
              "  3.4487292766571045,\n",
              "  3.1663429737091064,\n",
              "  2.863342761993408,\n",
              "  2.5651917457580566,\n",
              "  2.1816065311431885,\n",
              "  1.8584522008895874,\n",
              "  1.4307835102081299,\n",
              "  1.1429736614227295,\n",
              "  0.9822124242782593,\n",
              "  0.7506746649742126,\n",
              "  0.6676167249679565,\n",
              "  0.5358492136001587,\n",
              "  0.4590623080730438,\n",
              "  0.3969390392303467,\n",
              "  0.38676315546035767,\n",
              "  0.30101901292800903,\n",
              "  0.3110937774181366,\n",
              "  0.2600049078464508,\n",
              "  0.21270045638084412,\n",
              "  0.1999664604663849,\n",
              "  0.24811379611492157,\n",
              "  0.23089638352394104,\n",
              "  0.23142395913600922,\n",
              "  0.21508876979351044,\n",
              "  0.22059503197669983,\n",
              "  0.18947827816009521,\n",
              "  0.18446986377239227,\n",
              "  0.16286657750606537,\n",
              "  0.1707410216331482,\n",
              "  0.12031717598438263],\n",
              " 'accuracy': [0.031160572543740273,\n",
              "  0.046104926615953445,\n",
              "  0.06550079584121704,\n",
              "  0.1262321174144745,\n",
              "  0.20667727291584015,\n",
              "  0.28457871079444885,\n",
              "  0.3662956953048706,\n",
              "  0.4597774147987366,\n",
              "  0.5767885446548462,\n",
              "  0.6581876277923584,\n",
              "  0.7233704328536987,\n",
              "  0.7774244546890259,\n",
              "  0.8019077777862549,\n",
              "  0.844197154045105,\n",
              "  0.8616852164268494,\n",
              "  0.8791732788085938,\n",
              "  0.8842607140541077,\n",
              "  0.911605715751648,\n",
              "  0.9122416377067566,\n",
              "  0.9275040030479431,\n",
              "  0.9364069700241089,\n",
              "  0.9408584833145142,\n",
              "  0.9275040030479431,\n",
              "  0.9402225613594055,\n",
              "  0.9332273602485657,\n",
              "  0.937678873538971,\n",
              "  0.937678873538971,\n",
              "  0.9405405521392822,\n",
              "  0.9532591700553894,\n",
              "  0.9551669359207153,\n",
              "  0.9481716752052307,\n",
              "  0.9627981185913086],\n",
              " 'val_loss': [3.566638231277466,\n",
              "  3.3980729579925537,\n",
              "  3.1128838062286377,\n",
              "  2.686040163040161,\n",
              "  1.9641220569610596,\n",
              "  1.603434443473816,\n",
              "  1.0296876430511475,\n",
              "  0.7244192957878113,\n",
              "  0.46276381611824036,\n",
              "  0.38521602749824524,\n",
              "  0.32139310240745544,\n",
              "  0.3076608180999756,\n",
              "  0.2952116131782532,\n",
              "  0.27927321195602417,\n",
              "  0.2154390811920166,\n",
              "  0.22896532714366913,\n",
              "  0.296857625246048,\n",
              "  0.28283554315567017,\n",
              "  0.280306339263916,\n",
              "  0.26722273230552673,\n",
              "  0.29572850465774536,\n",
              "  0.33262869715690613,\n",
              "  0.2515466511249542,\n",
              "  0.2734408378601074,\n",
              "  0.27526965737342834,\n",
              "  0.26687994599342346,\n",
              "  0.24931609630584717,\n",
              "  0.31085842847824097,\n",
              "  0.2511482238769531,\n",
              "  0.2257000058889389,\n",
              "  0.22915446758270264,\n",
              "  0.21756252646446228],\n",
              " 'val_accuracy': [0.07122506946325302,\n",
              "  0.0683760717511177,\n",
              "  0.20512820780277252,\n",
              "  0.3076923191547394,\n",
              "  0.6039885878562927,\n",
              "  0.7179487347602844,\n",
              "  0.8262107968330383,\n",
              "  0.8945869207382202,\n",
              "  0.9316239356994629,\n",
              "  0.9430199265480042,\n",
              "  0.9373219609260559,\n",
              "  0.94017094373703,\n",
              "  0.9430199265480042,\n",
              "  0.9487179517745972,\n",
              "  0.9572649598121643,\n",
              "  0.9601139426231384,\n",
              "  0.9601139426231384,\n",
              "  0.9572649598121643,\n",
              "  0.9544159770011902,\n",
              "  0.9629629850387573,\n",
              "  0.9601139426231384,\n",
              "  0.9572649598121643,\n",
              "  0.9629629850387573,\n",
              "  0.9601139426231384,\n",
              "  0.9544159770011902,\n",
              "  0.9601139426231384,\n",
              "  0.9601139426231384,\n",
              "  0.9629629850387573,\n",
              "  0.9629629850387573,\n",
              "  0.9601139426231384,\n",
              "  0.9601139426231384,\n",
              "  0.9629629850387573]}"
            ]
          },
          "metadata": {},
          "execution_count": 37
        }
      ]
    },
    {
      "cell_type": "code",
      "source": [
        "#Recording History in json\n",
        "import json\n",
        "with open('training_hist.json','w') as f:\n",
        "  json.dump(training_history.history,f)"
      ],
      "metadata": {
        "id": "GdF3Ig4ZBU9V"
      },
      "execution_count": 39,
      "outputs": []
    },
    {
      "cell_type": "code",
      "source": [
        "print(training_history.history.keys())"
      ],
      "metadata": {
        "colab": {
          "base_uri": "https://localhost:8080/"
        },
        "id": "w8PnAYbuCNhu",
        "outputId": "665cd52d-4777-4e7e-9c04-cc7716c5fb62"
      },
      "execution_count": 40,
      "outputs": [
        {
          "output_type": "stream",
          "name": "stdout",
          "text": [
            "dict_keys(['loss', 'accuracy', 'val_loss', 'val_accuracy'])\n"
          ]
        }
      ]
    },
    {
      "cell_type": "markdown",
      "source": [
        "##Calculating Accuracy of Model Achieved on Validation set"
      ],
      "metadata": {
        "id": "ZwTEcIavCjZ8"
      }
    },
    {
      "cell_type": "code",
      "source": [
        "print(\"Validation set Accuracy: {} %\".format(training_history.history['val_accuracy'][-1]*100))"
      ],
      "metadata": {
        "colab": {
          "base_uri": "https://localhost:8080/"
        },
        "id": "Z8Q2t6FXCUzR",
        "outputId": "c4d17e44-87e0-4d1a-adf9-419e81c704ce"
      },
      "execution_count": 41,
      "outputs": [
        {
          "output_type": "stream",
          "name": "stdout",
          "text": [
            "Validation set Accuracy: 96.29629850387573 %\n"
          ]
        }
      ]
    },
    {
      "cell_type": "markdown",
      "source": [
        "#Accuracy Visualization"
      ],
      "metadata": {
        "id": "qNIMPXKFEZ5B"
      }
    },
    {
      "cell_type": "markdown",
      "source": [
        "##Training Visualization"
      ],
      "metadata": {
        "id": "Mdg9Zjp2EfSa"
      }
    },
    {
      "cell_type": "code",
      "source": [
        "#training_history.history['accuracy']"
      ],
      "metadata": {
        "id": "fAvJjfBAFNJx"
      },
      "execution_count": 42,
      "outputs": []
    },
    {
      "cell_type": "code",
      "source": [
        "epochs = [i for i in range(1,33)]\n",
        "plt.plot(epochs,training_history.history['accuracy'],color='red')\n",
        "plt.xlabel('No. of Epochs')\n",
        "plt.ylabel('Traiining Accuracy')\n",
        "plt.title('Visualization of Training Accuracy Result')\n",
        "plt.show()"
      ],
      "metadata": {
        "colab": {
          "base_uri": "https://localhost:8080/",
          "height": 295
        },
        "id": "gfKdieuJCt3m",
        "outputId": "00c39bea-d59d-48bd-a9bb-f819e1313252"
      },
      "execution_count": 44,
      "outputs": [
        {
          "output_type": "display_data",
          "data": {
            "text/plain": [
              "<Figure size 432x288 with 1 Axes>"
            ],
            "image/png": "[encoded data removed]"
          },
          "metadata": {
            "needs_background": "light"
          }
        }
      ]
    },
    {
      "cell_type": "markdown",
      "source": [
        "##Validation Accuracy"
      ],
      "metadata": {
        "id": "FbOcpJL1FvJG"
      }
    },
    {
      "cell_type": "code",
      "source": [
        "plt.plot(epochs,training_history.history['val_accuracy'],color='blue')\n",
        "plt.xlabel('No. of Epochs')\n",
        "plt.ylabel('Validation Accuracy')\n",
        "plt.title('Visualization of Validation Accuracy Result')\n",
        "plt.show()"
      ],
      "metadata": {
        "colab": {
          "base_uri": "https://localhost:8080/",
          "height": 295
        },
        "id": "ZXyC9WAJEs-B",
        "outputId": "a7d14eba-7481-4b55-c7bb-a0e3821ee77e"
      },
      "execution_count": 45,
      "outputs": [
        {
          "output_type": "display_data",
          "data": {
            "text/plain": [
              "<Figure size 432x288 with 1 Axes>"
            ],
            "image/png": "[encoded data removed]"
          },
          "metadata": {
            "needs_background": "light"
          }
        }
      ]
    },
    {
      "cell_type": "code",
      "source": [],
      "metadata": {
        "id": "6mB3DkYFEuRg"
      },
      "execution_count": null,
      "outputs": []
    },
    {
      "cell_type": "markdown",
      "source": [
        "##Test set Evaluation"
      ],
      "metadata": {
        "id": "IJfYwGbmASaL"
      }
    },
    {
      "cell_type": "code",
      "source": [
        "test_set = tf.keras.utils.image_dataset_from_directory(\n",
        "    '/content/drive/MyDrive/Fruit_Vegetable_Recognition/test',\n",
        "    labels=\"inferred\",\n",
        "    label_mode=\"categorical\",\n",
        "    class_names=None,\n",
        "    color_mode=\"rgb\",\n",
        "    batch_size=32,\n",
        "    image_size=(64, 64),\n",
        "    shuffle=True,\n",
        "    seed=None,\n",
        "    validation_split=None,\n",
        "    subset=None,\n",
        "    interpolation=\"bilinear\",\n",
        "    follow_links=False,\n",
        "    crop_to_aspect_ratio=False\n",
        ")"
      ],
      "metadata": {
        "colab": {
          "base_uri": "https://localhost:8080/"
        },
        "id": "fGs_0S4AAUj_",
        "outputId": "6e85b3b3-0784-47c9-8001-f1d5213cdfd6"
      },
      "execution_count": 49,
      "outputs": [
        {
          "output_type": "stream",
          "name": "stdout",
          "text": [
            "Found 359 files belonging to 36 classes.\n"
          ]
        }
      ]
    },
    {
      "cell_type": "code",
      "source": [
        "test_loss,test_acc = cnn.evaluate(test_set)\n",
        "print('Test accuracy:', test_acc)"
      ],
      "metadata": {
        "colab": {
          "base_uri": "https://localhost:8080/"
        },
        "id": "GdMcF4vnAYuM",
        "outputId": "773cc9ab-c1e7-4a0b-ecf0-ee0e1ee50efc"
      },
      "execution_count": 51,
      "outputs": [
        {
          "output_type": "stream",
          "name": "stdout",
          "text": [
            "12/12 [==============================] - 10s 186ms/step - loss: 0.2127 - accuracy: 0.9638\n",
            "Test accuracy: 0.9637883305549622\n"
          ]
        }
      ]
    },
    {
      "cell_type": "code",
      "source": [],
      "metadata": {
        "id": "MmHXzT0PAiOn"
      },
      "execution_count": null,
      "outputs": []
    }
  ]
}